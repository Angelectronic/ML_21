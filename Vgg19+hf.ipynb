{
 "cells": [
  {
   "cell_type": "code",
   "execution_count": 23,
   "metadata": {},
   "outputs": [],
   "source": [
    "from torch.utils.data import Dataset, DataLoader\n",
    "import torch\n",
    "import numpy as np\n",
    "from tqdm import tqdm\n",
    "import os\n",
    "\n",
    "class ImdbDataset(Dataset):\n",
    "    def __init__(self, is_train=True):\n",
    "        # label genre\n",
    "        with open('dataset/genres.txt', 'r') as f:\n",
    "            genre_all = f.readlines()\n",
    "            genre_all = [x.replace('\\n','') for x in genre_all]\n",
    "        self.genre2idx = {genre:idx for idx, genre in enumerate(genre_all)}\n",
    "\n",
    "    def __getitem__(self, index):\n",
    "        genre = self.data.iloc[index].genre\n",
    "\n",
    "        # preprocess text\n",
    "        title_vec = self.title_vector[index]\n",
    "        title_tensor = torch.from_numpy(title_vec).float()\n",
    "\n",
    "        # preprocess image\n",
    "        img_vec = self.img_vector[index]\n",
    "        img_tensor = torch.from_numpy(img_vec).float()        \n",
    "\n",
    "        # preprocess label\n",
    "        genre_vector = np.zeros(len(self.genre2idx))\n",
    "\n",
    "        for g in genre:\n",
    "            genre_vector[self.genre2idx[g]] = 1\n",
    "        genre_tensor = torch.from_numpy(genre_vector).float()\n",
    "\n",
    "        return title_tensor, img_tensor, genre_tensor\n",
    "\n",
    "    def __len__(self):\n",
    "        return len(self.data)"
   ]
  },
  {
   "cell_type": "code",
   "execution_count": 24,
   "metadata": {},
   "outputs": [
    {
     "data": {
      "text/plain": [
       "(98, 25)"
      ]
     },
     "execution_count": 24,
     "metadata": {},
     "output_type": "execute_result"
    }
   ],
   "source": [
    "import torch\n",
    "from torch.utils.data import DataLoader\n",
    "\n",
    "# load dataset\n",
    "train_data = torch.load('dataset/train_set_vgg19_hf.pt')\n",
    "test_data = torch.load('dataset/test_set_vgg19_hf.pt')\n",
    "\n",
    "# create dataloader\n",
    "BATCH_SIZE = 32\n",
    "train_loader = DataLoader(dataset=train_data, batch_size=BATCH_SIZE, shuffle=True)\n",
    "test_loader = DataLoader(dataset=test_data, batch_size=BATCH_SIZE, shuffle=False)\n",
    "\n",
    "len(train_loader), len(test_loader)"
   ]
  },
  {
   "cell_type": "code",
   "execution_count": 25,
   "metadata": {},
   "outputs": [
    {
     "name": "stdout",
     "output_type": "stream",
     "text": [
      "torch.Size([32, 10]) torch.Size([32, 1000]) torch.Size([32, 18])\n",
      "torch.Size([32, 10]) torch.Size([32, 1000]) torch.Size([32, 18])\n"
     ]
    }
   ],
   "source": [
    "for title, img, genre in train_loader:\n",
    "    print(title.shape, img.shape, genre.shape)\n",
    "    break\n",
    "for title, img, genre in test_loader:\n",
    "    print(title.shape, img.shape, genre.shape)\n",
    "    break"
   ]
  },
  {
   "cell_type": "code",
   "execution_count": 26,
   "metadata": {},
   "outputs": [
    {
     "data": {
      "text/plain": [
       "ImdbModel_2(\n",
       "  (fc): Sequential(\n",
       "    (0): Linear(in_features=1010, out_features=512, bias=True)\n",
       "    (1): ReLU()\n",
       "    (2): Linear(in_features=512, out_features=256, bias=True)\n",
       "    (3): ReLU()\n",
       "    (4): Linear(in_features=256, out_features=256, bias=True)\n",
       "    (5): ReLU()\n",
       "    (6): Linear(in_features=256, out_features=18, bias=True)\n",
       "  )\n",
       "  (norm_img): BatchNorm1d(1000, eps=1e-05, momentum=0.1, affine=True, track_running_stats=True)\n",
       "  (norm_title): BatchNorm1d(10, eps=1e-05, momentum=0.1, affine=True, track_running_stats=True)\n",
       ")"
      ]
     },
     "execution_count": 26,
     "metadata": {},
     "output_type": "execute_result"
    }
   ],
   "source": [
    "from torch import nn\n",
    "\n",
    "class ImdbModel_2(nn.Module):\n",
    "    def __init__(self):\n",
    "        super().__init__()\n",
    "        self.fc = nn.Sequential(\n",
    "            nn.Linear(1010, 512),\n",
    "            nn.ReLU(),\n",
    "            nn.Linear(512, 256),\n",
    "            nn.ReLU(),\n",
    "            nn.Linear(256, 256),\n",
    "            nn.ReLU(),\n",
    "            nn.Linear(256, 18),\n",
    "        )\n",
    "        self.norm_img = nn.BatchNorm1d(1000)\n",
    "        self.norm_title = nn.BatchNorm1d(10)\n",
    "\n",
    "\n",
    "    def forward(self, title, img):\n",
    "        # normalize\n",
    "        title = self.norm_title(title)\n",
    "        img = self.norm_img(img)\n",
    "\n",
    "        x = torch.cat([title, img], dim=1)\n",
    "        x = self.fc(x)\n",
    "        return x\n",
    "    \n",
    "model = ImdbModel_2()\n",
    "model"
   ]
  },
  {
   "cell_type": "code",
   "execution_count": 27,
   "metadata": {},
   "outputs": [],
   "source": [
    "import torch.optim as optim\n",
    "\n",
    "criterion = nn.CrossEntropyLoss()\n",
    "optimizer = optim.Adam(model.parameters(), lr=0.005)"
   ]
  },
  {
   "cell_type": "code",
   "execution_count": 28,
   "metadata": {},
   "outputs": [
    {
     "name": "stderr",
     "output_type": "stream",
     "text": [
      "  0%|          | 0/98 [00:00<?, ?it/s]"
     ]
    },
    {
     "name": "stderr",
     "output_type": "stream",
     "text": [
      "100%|██████████| 98/98 [00:02<00:00, 46.74it/s]\n"
     ]
    },
    {
     "name": "stdout",
     "output_type": "stream",
     "text": [
      "Epoch 1/20, train_loss: 1.6164, test_loss: 3.7032, f1: 0.1747, precision: 0.1262, recall: 0.4027\n"
     ]
    },
    {
     "name": "stderr",
     "output_type": "stream",
     "text": [
      "100%|██████████| 98/98 [00:02<00:00, 46.41it/s]\n"
     ]
    },
    {
     "name": "stdout",
     "output_type": "stream",
     "text": [
      "Epoch 2/20, train_loss: 2.0260, test_loss: 3.8411, f1: 0.1926, precision: 0.1454, recall: 0.3717\n"
     ]
    },
    {
     "name": "stderr",
     "output_type": "stream",
     "text": [
      "100%|██████████| 98/98 [00:02<00:00, 48.90it/s]\n"
     ]
    },
    {
     "name": "stdout",
     "output_type": "stream",
     "text": [
      "Epoch 3/20, train_loss: 3.3116, test_loss: 3.9610, f1: 0.2032, precision: 0.1487, recall: 0.4152\n"
     ]
    },
    {
     "name": "stderr",
     "output_type": "stream",
     "text": [
      "100%|██████████| 98/98 [00:02<00:00, 44.10it/s]\n"
     ]
    },
    {
     "name": "stdout",
     "output_type": "stream",
     "text": [
      "Epoch 4/20, train_loss: 5.6129, test_loss: 3.9834, f1: 0.2045, precision: 0.1573, recall: 0.3959\n"
     ]
    },
    {
     "name": "stderr",
     "output_type": "stream",
     "text": [
      "100%|██████████| 98/98 [00:02<00:00, 41.47it/s]\n"
     ]
    },
    {
     "name": "stdout",
     "output_type": "stream",
     "text": [
      "Epoch 5/20, train_loss: 5.0972, test_loss: 4.2421, f1: 0.2097, precision: 0.1560, recall: 0.4137\n"
     ]
    },
    {
     "name": "stderr",
     "output_type": "stream",
     "text": [
      "100%|██████████| 98/98 [00:02<00:00, 42.11it/s]\n"
     ]
    },
    {
     "name": "stdout",
     "output_type": "stream",
     "text": [
      "Epoch 6/20, train_loss: 4.9705, test_loss: 4.5150, f1: 0.1969, precision: 0.1537, recall: 0.3753\n"
     ]
    },
    {
     "name": "stderr",
     "output_type": "stream",
     "text": [
      "100%|██████████| 98/98 [00:02<00:00, 32.77it/s]\n"
     ]
    },
    {
     "name": "stdout",
     "output_type": "stream",
     "text": [
      "Epoch 7/20, train_loss: 2.8384, test_loss: 4.3243, f1: 0.2142, precision: 0.1640, recall: 0.4017\n"
     ]
    },
    {
     "name": "stderr",
     "output_type": "stream",
     "text": [
      "100%|██████████| 98/98 [00:02<00:00, 43.06it/s]\n"
     ]
    },
    {
     "name": "stdout",
     "output_type": "stream",
     "text": [
      "Epoch 8/20, train_loss: 4.2938, test_loss: 4.8964, f1: 0.2136, precision: 0.1646, recall: 0.3882\n"
     ]
    },
    {
     "name": "stderr",
     "output_type": "stream",
     "text": [
      "100%|██████████| 98/98 [00:02<00:00, 46.52it/s]\n"
     ]
    },
    {
     "name": "stdout",
     "output_type": "stream",
     "text": [
      "Epoch 9/20, train_loss: 1.7693, test_loss: 5.2719, f1: 0.2029, precision: 0.1496, recall: 0.3829\n"
     ]
    },
    {
     "name": "stderr",
     "output_type": "stream",
     "text": [
      "100%|██████████| 98/98 [00:02<00:00, 42.09it/s]\n"
     ]
    },
    {
     "name": "stdout",
     "output_type": "stream",
     "text": [
      "Epoch 10/20, train_loss: 1.5165, test_loss: 5.3493, f1: 0.2127, precision: 0.1632, recall: 0.3943\n"
     ]
    },
    {
     "name": "stderr",
     "output_type": "stream",
     "text": [
      "100%|██████████| 98/98 [00:02<00:00, 40.96it/s]\n"
     ]
    },
    {
     "name": "stdout",
     "output_type": "stream",
     "text": [
      "Epoch 11/20, train_loss: 4.5754, test_loss: 5.0394, f1: 0.2131, precision: 0.1614, recall: 0.3983\n"
     ]
    },
    {
     "name": "stderr",
     "output_type": "stream",
     "text": [
      "100%|██████████| 98/98 [00:02<00:00, 41.25it/s]\n"
     ]
    },
    {
     "name": "stdout",
     "output_type": "stream",
     "text": [
      "Epoch 12/20, train_loss: 2.0547, test_loss: 5.6769, f1: 0.2111, precision: 0.1610, recall: 0.4077\n"
     ]
    },
    {
     "name": "stderr",
     "output_type": "stream",
     "text": [
      "100%|██████████| 98/98 [00:02<00:00, 45.41it/s]\n"
     ]
    },
    {
     "name": "stdout",
     "output_type": "stream",
     "text": [
      "Epoch 13/20, train_loss: 3.8086, test_loss: 5.5196, f1: 0.2153, precision: 0.1624, recall: 0.4019\n"
     ]
    },
    {
     "name": "stderr",
     "output_type": "stream",
     "text": [
      "100%|██████████| 98/98 [00:02<00:00, 39.36it/s]\n"
     ]
    },
    {
     "name": "stdout",
     "output_type": "stream",
     "text": [
      "Epoch 14/20, train_loss: 0.9261, test_loss: 6.1946, f1: 0.2139, precision: 0.1649, recall: 0.3863\n"
     ]
    },
    {
     "name": "stderr",
     "output_type": "stream",
     "text": [
      "100%|██████████| 98/98 [00:02<00:00, 37.17it/s]\n"
     ]
    },
    {
     "name": "stdout",
     "output_type": "stream",
     "text": [
      "Epoch 15/20, train_loss: 1.1948, test_loss: 5.9846, f1: 0.2180, precision: 0.1671, recall: 0.3981\n"
     ]
    },
    {
     "name": "stderr",
     "output_type": "stream",
     "text": [
      "100%|██████████| 98/98 [00:02<00:00, 48.54it/s]\n"
     ]
    },
    {
     "name": "stdout",
     "output_type": "stream",
     "text": [
      "Epoch 16/20, train_loss: 4.4053, test_loss: 5.6968, f1: 0.2132, precision: 0.1684, recall: 0.3940\n"
     ]
    },
    {
     "name": "stderr",
     "output_type": "stream",
     "text": [
      "100%|██████████| 98/98 [00:02<00:00, 35.75it/s]\n"
     ]
    },
    {
     "name": "stdout",
     "output_type": "stream",
     "text": [
      "Epoch 17/20, train_loss: 5.9254, test_loss: 7.1282, f1: 0.2165, precision: 0.1686, recall: 0.3917\n"
     ]
    },
    {
     "name": "stderr",
     "output_type": "stream",
     "text": [
      "100%|██████████| 98/98 [00:02<00:00, 42.49it/s]\n"
     ]
    },
    {
     "name": "stdout",
     "output_type": "stream",
     "text": [
      "Epoch 18/20, train_loss: 4.0584, test_loss: 6.3647, f1: 0.2107, precision: 0.1587, recall: 0.3913\n"
     ]
    },
    {
     "name": "stderr",
     "output_type": "stream",
     "text": [
      "100%|██████████| 98/98 [00:02<00:00, 40.82it/s]\n"
     ]
    },
    {
     "name": "stdout",
     "output_type": "stream",
     "text": [
      "Epoch 19/20, train_loss: 1.7177, test_loss: 6.4729, f1: 0.2095, precision: 0.1550, recall: 0.3944\n"
     ]
    },
    {
     "name": "stderr",
     "output_type": "stream",
     "text": [
      "100%|██████████| 98/98 [00:02<00:00, 33.60it/s]\n"
     ]
    },
    {
     "name": "stdout",
     "output_type": "stream",
     "text": [
      "Epoch 20/20, train_loss: 0.8029, test_loss: 6.9646, f1: 0.2080, precision: 0.1510, recall: 0.4088\n"
     ]
    }
   ],
   "source": [
    "from tqdm import tqdm\n",
    "from torchmetrics.classification import MultilabelF1Score, MultilabelPrecision, MultilabelRecall\n",
    "\n",
    "num_labels = genre.shape[1]\n",
    "\n",
    "device = torch.device(\"cuda:0\" if torch.cuda.is_available() else \"cpu\")\n",
    "model.to(device)\n",
    "\n",
    "history = {'train_loss': [], 'test_loss': []}\n",
    "f1_score = {'train': [], 'test': []}\n",
    "\n",
    "f1 = MultilabelF1Score(num_labels=num_labels, threshold=0.5, average='macro')\n",
    "f1 = f1.to(device)\n",
    "precision = MultilabelPrecision(num_labels=num_labels, threshold=0.5, average='macro')\n",
    "precision = precision.to(device)\n",
    "recall = MultilabelRecall(num_labels=num_labels, threshold=0.5, average='macro')\n",
    "recall = recall.to(device)\n",
    " \n",
    "def test(model):\n",
    "    model.eval()\n",
    "    test_loss = 0\n",
    "    f1_all = 0\n",
    "    precision_all = 0\n",
    "    recall_all = 0\n",
    "\n",
    "    with torch.no_grad():\n",
    "        for title, img, genre in test_loader:\n",
    "            title, img, genre = title.to(device), img.to(device), genre.to(device)\n",
    "            outputs = model(title, img)\n",
    "            loss = criterion(outputs, genre)\n",
    "            test_loss += loss.item()\n",
    "            \n",
    "            f1_all += f1(outputs, genre)\n",
    "            precision_all += precision(outputs, genre)\n",
    "            recall_all += recall(outputs, genre)\n",
    "\n",
    "    test_loss /= len(test_loader)\n",
    "    f1_all /= len(test_loader)\n",
    "    precision_all /= len(test_loader)\n",
    "    recall_all /= len(test_loader)\n",
    "\n",
    "    return test_loss, f1_all, precision_all, recall_all\n",
    "\n",
    "num_epochs = 20\n",
    "\n",
    "for epoch in range(num_epochs):\n",
    "    model.train()\n",
    "    for idx, (title, img, genre) in enumerate(tqdm(train_loader)):\n",
    "        title, img, genre = title.to(device), img.to(device), genre.to(device)\n",
    "        optimizer.zero_grad()\n",
    "        outputs = model(title, img)\n",
    "        loss = criterion(outputs, genre)\n",
    "        loss.backward()\n",
    "        optimizer.step()\n",
    "\n",
    "    train_loss = loss.item()\n",
    "    test_loss, f1_all, precision_all, recall_all = test(model)\n",
    "\n",
    "    history['train_loss'].append(train_loss)\n",
    "    history['test_loss'].append(test_loss)\n",
    "\n",
    "    print(f'Epoch {epoch+1}/{num_epochs}, train_loss: {train_loss:.4f}, test_loss: {test_loss:.4f}, f1: {f1_all:.4f}, precision: {precision_all:.4f}, recall: {recall_all:.4f}')"
   ]
  },
  {
   "cell_type": "code",
   "execution_count": 29,
   "metadata": {},
   "outputs": [
    {
     "data": {
      "image/png": "[encoded data removed]",
      "text/plain": [
       "<Figure size 640x480 with 1 Axes>"
      ]
     },
     "metadata": {},
     "output_type": "display_data"
    }
   ],
   "source": [
    "from matplotlib import pyplot as plt\n",
    "plt.plot(history['train_loss'], label='train_loss')\n",
    "plt.plot(history['test_loss'], label='test_loss')\n",
    "plt.legend()\n",
    "plt.show()"
   ]
  },
  {
   "cell_type": "code",
   "execution_count": null,
   "metadata": {},
   "outputs": [],
   "source": []
  }
 ],
 "metadata": {
  "kernelspec": {
   "display_name": "base",
   "language": "python",
   "name": "python3"
  },
  "language_info": {
   "codemirror_mode": {
    "name": "ipython",
    "version": 3
   },
   "file_extension": ".py",
   "mimetype": "text/x-python",
   "name": "python",
   "nbconvert_exporter": "python",
   "pygments_lexer": "ipython3",
   "version": "3.9.18"
  }
 },
 "nbformat": 4,
 "nbformat_minor": 2
}
