{
 "cells": [
  {
   "cell_type": "code",
   "execution_count": 1,
   "metadata": {},
   "outputs": [],
   "source": [
    "from torch.utils.data import Dataset, DataLoader\n",
    "import torch\n",
    "import numpy as np\n",
    "from tqdm import tqdm\n",
    "import torch\n",
    "\n",
    "\n",
    "class ImdbDataset(Dataset):\n",
    "    def __init__(self, is_train=True):\n",
    "        # label genre\n",
    "        with open('dataset/genres.txt', 'r') as f:\n",
    "            genre_all = f.readlines()\n",
    "            genre_all = [x.replace('\\n','') for x in genre_all]\n",
    "        self.genre2idx = {genre:idx for idx, genre in enumerate(genre_all)}\n",
    "\n",
    "    def __getitem__(self, index):\n",
    "        self.device = torch.device(\"cuda\" if torch.cuda.is_available() else \"cpu\")\n",
    "        genre = self.data.iloc[index].genre\n",
    "\n",
    "        # preprocess text\n",
    "        if len(self.data) > 1000:\n",
    "            self.summary = np.load('dataset/mistral_rating_db/summary_embeddings_train.npy')\n",
    "        else:\n",
    "            self.summary = np.load('dataset/mistral_rating_db/summary_embeddings_test.npy')\n",
    "\n",
    "        title_tensor = torch.from_numpy(self.summary[index]).float()\n",
    "        title_tensor.to(self.device)\n",
    "\n",
    "        # preprocess image\n",
    "        img_vec = self.img_vector[index]\n",
    "        img_tensor = torch.from_numpy(img_vec).float()\n",
    "        img_tensor.to(self.device)        \n",
    "\n",
    "        # preprocess label\n",
    "        genre_vector = np.zeros(len(self.genre2idx))\n",
    "\n",
    "        for g in genre:\n",
    "            genre_vector[self.genre2idx[g]] = 1\n",
    "        genre_tensor = torch.from_numpy(genre_vector).float()\n",
    "        genre_tensor.to(self.device)\n",
    "\n",
    "        return title_tensor, img_tensor, genre_tensor\n",
    "\n",
    "    def __len__(self):\n",
    "        return len(self.data)"
   ]
  },
  {
   "cell_type": "code",
   "execution_count": 2,
   "metadata": {},
   "outputs": [],
   "source": [
    "train_data = torch.load('dataset/train_set_vgg19_hf.pt')\n",
    "test_data = torch.load('dataset/test_set_vgg19_hf.pt')"
   ]
  },
  {
   "cell_type": "code",
   "execution_count": 3,
   "metadata": {},
   "outputs": [
    {
     "name": "stdout",
     "output_type": "stream",
     "text": [
      "torch.Size([32, 10]) torch.Size([32, 1000]) torch.Size([32, 18])\n",
      "torch.Size([32, 10]) torch.Size([32, 1000]) torch.Size([32, 18])\n"
     ]
    }
   ],
   "source": [
    "BATCH_SIZE = 32\n",
    "train_loader = DataLoader(dataset=train_data, batch_size=BATCH_SIZE, shuffle=True)\n",
    "test_loader = DataLoader(dataset=test_data, batch_size=BATCH_SIZE, shuffle=False)\n",
    "\n",
    "for title, img, genre in train_loader:\n",
    "    print(title.shape, img.shape, genre.shape)\n",
    "    break\n",
    "for title, img, genre in test_loader:\n",
    "    print(title.shape, img.shape, genre.shape)\n",
    "    break"
   ]
  },
  {
   "cell_type": "code",
   "execution_count": 8,
   "metadata": {},
   "outputs": [
    {
     "data": {
      "text/plain": [
       "ImdbModel_2(\n",
       "  (fc): Sequential(\n",
       "    (0): Linear(in_features=1010, out_features=512, bias=True)\n",
       "    (1): ReLU()\n",
       "    (2): Linear(in_features=512, out_features=256, bias=True)\n",
       "    (3): ReLU()\n",
       "    (4): Linear(in_features=256, out_features=256, bias=True)\n",
       "    (5): ReLU()\n",
       "    (6): Linear(in_features=256, out_features=18, bias=True)\n",
       "  )\n",
       "  (norm_img): BatchNorm1d(1000, eps=1e-05, momentum=0.1, affine=True, track_running_stats=True)\n",
       "  (norm_title): BatchNorm1d(10, eps=1e-05, momentum=0.1, affine=True, track_running_stats=True)\n",
       ")"
      ]
     },
     "execution_count": 8,
     "metadata": {},
     "output_type": "execute_result"
    }
   ],
   "source": [
    "from torch import nn\n",
    "\n",
    "class ImdbModel_2(nn.Module):\n",
    "    def __init__(self):\n",
    "        super().__init__()\n",
    "        self.fc = nn.Sequential(\n",
    "            nn.Linear(1010, 512),\n",
    "            nn.ReLU(),\n",
    "            nn.Linear(512, 256),\n",
    "            nn.ReLU(),\n",
    "            nn.Linear(256, 256),\n",
    "            nn.ReLU(),\n",
    "            nn.Linear(256, 18),\n",
    "        )\n",
    "        self.norm_img = nn.BatchNorm1d(1000)\n",
    "        self.norm_title = nn.BatchNorm1d(10)\n",
    "\n",
    "\n",
    "    def forward(self, title, img):\n",
    "        # normalize\n",
    "        title = self.norm_title(title)\n",
    "        img = self.norm_img(img)\n",
    "\n",
    "        x = torch.cat([title, img], dim=1)\n",
    "        x = self.fc(x)\n",
    "        return x\n",
    "    \n",
    "model = ImdbModel_2()\n",
    "model"
   ]
  },
  {
   "cell_type": "code",
   "execution_count": 9,
   "metadata": {},
   "outputs": [],
   "source": [
    "import torch.optim as optim\n",
    "\n",
    "criterion = nn.CrossEntropyLoss()\n",
    "optimizer = optim.Adam(model.parameters(), lr=0.005)"
   ]
  },
  {
   "cell_type": "code",
   "execution_count": 15,
   "metadata": {},
   "outputs": [
    {
     "name": "stderr",
     "output_type": "stream",
     "text": [
      "100%|██████████| 98/98 [00:06<00:00, 14.51it/s]\n"
     ]
    },
    {
     "name": "stdout",
     "output_type": "stream",
     "text": [
      "Epoch 1/20, train_loss: 2.8828, test_loss: 9.5152, f1: 0.2573\n"
     ]
    },
    {
     "name": "stderr",
     "output_type": "stream",
     "text": [
      "100%|██████████| 98/98 [00:08<00:00, 12.01it/s]\n"
     ]
    },
    {
     "name": "stdout",
     "output_type": "stream",
     "text": [
      "Epoch 2/20, train_loss: 1.2800, test_loss: 8.2144, f1: 0.2638\n"
     ]
    },
    {
     "name": "stderr",
     "output_type": "stream",
     "text": [
      "100%|██████████| 98/98 [00:08<00:00, 11.84it/s]\n"
     ]
    },
    {
     "name": "stdout",
     "output_type": "stream",
     "text": [
      "Epoch 3/20, train_loss: 1.9399, test_loss: 8.3488, f1: 0.2565\n"
     ]
    },
    {
     "name": "stderr",
     "output_type": "stream",
     "text": [
      "100%|██████████| 98/98 [00:08<00:00, 11.84it/s]\n"
     ]
    },
    {
     "name": "stdout",
     "output_type": "stream",
     "text": [
      "Epoch 4/20, train_loss: 3.8458, test_loss: 8.7734, f1: 0.2554\n"
     ]
    },
    {
     "name": "stderr",
     "output_type": "stream",
     "text": [
      "100%|██████████| 98/98 [00:05<00:00, 18.09it/s]\n"
     ]
    },
    {
     "name": "stdout",
     "output_type": "stream",
     "text": [
      "Epoch 5/20, train_loss: 11.6218, test_loss: 8.3609, f1: 0.2582\n"
     ]
    },
    {
     "name": "stderr",
     "output_type": "stream",
     "text": [
      "100%|██████████| 98/98 [00:05<00:00, 17.08it/s]\n"
     ]
    },
    {
     "name": "stdout",
     "output_type": "stream",
     "text": [
      "Epoch 6/20, train_loss: 7.5131, test_loss: 9.0004, f1: 0.2514\n"
     ]
    },
    {
     "name": "stderr",
     "output_type": "stream",
     "text": [
      "100%|██████████| 98/98 [00:05<00:00, 19.10it/s]\n"
     ]
    },
    {
     "name": "stdout",
     "output_type": "stream",
     "text": [
      "Epoch 7/20, train_loss: 2.2506, test_loss: 8.3998, f1: 0.2391\n"
     ]
    },
    {
     "name": "stderr",
     "output_type": "stream",
     "text": [
      "100%|██████████| 98/98 [00:05<00:00, 19.01it/s]\n"
     ]
    },
    {
     "name": "stdout",
     "output_type": "stream",
     "text": [
      "Epoch 8/20, train_loss: 3.5263, test_loss: 8.9484, f1: 0.2542\n"
     ]
    },
    {
     "name": "stderr",
     "output_type": "stream",
     "text": [
      "100%|██████████| 98/98 [00:05<00:00, 19.25it/s]\n"
     ]
    },
    {
     "name": "stdout",
     "output_type": "stream",
     "text": [
      "Epoch 9/20, train_loss: 5.4473, test_loss: 9.5748, f1: 0.2575\n"
     ]
    },
    {
     "name": "stderr",
     "output_type": "stream",
     "text": [
      "100%|██████████| 98/98 [00:04<00:00, 24.36it/s]\n"
     ]
    },
    {
     "name": "stdout",
     "output_type": "stream",
     "text": [
      "Epoch 10/20, train_loss: 7.0602, test_loss: 10.0675, f1: 0.2501\n"
     ]
    },
    {
     "name": "stderr",
     "output_type": "stream",
     "text": [
      "100%|██████████| 98/98 [00:05<00:00, 19.56it/s]\n"
     ]
    },
    {
     "name": "stdout",
     "output_type": "stream",
     "text": [
      "Epoch 11/20, train_loss: 2.4719, test_loss: 9.1390, f1: 0.2605\n"
     ]
    },
    {
     "name": "stderr",
     "output_type": "stream",
     "text": [
      "100%|██████████| 98/98 [00:04<00:00, 24.48it/s]\n"
     ]
    },
    {
     "name": "stdout",
     "output_type": "stream",
     "text": [
      "Epoch 12/20, train_loss: 7.2918, test_loss: 10.0469, f1: 0.2428\n"
     ]
    },
    {
     "name": "stderr",
     "output_type": "stream",
     "text": [
      "100%|██████████| 98/98 [00:05<00:00, 19.19it/s]\n"
     ]
    },
    {
     "name": "stdout",
     "output_type": "stream",
     "text": [
      "Epoch 13/20, train_loss: 1.4768, test_loss: 9.0573, f1: 0.2458\n"
     ]
    },
    {
     "name": "stderr",
     "output_type": "stream",
     "text": [
      "100%|██████████| 98/98 [00:05<00:00, 18.81it/s]\n"
     ]
    },
    {
     "name": "stdout",
     "output_type": "stream",
     "text": [
      "Epoch 14/20, train_loss: 2.2020, test_loss: 7.5589, f1: 0.2529\n"
     ]
    },
    {
     "name": "stderr",
     "output_type": "stream",
     "text": [
      "100%|██████████| 98/98 [00:04<00:00, 24.11it/s]\n"
     ]
    },
    {
     "name": "stdout",
     "output_type": "stream",
     "text": [
      "Epoch 15/20, train_loss: 2.1358, test_loss: 9.1306, f1: 0.2501\n"
     ]
    },
    {
     "name": "stderr",
     "output_type": "stream",
     "text": [
      "100%|██████████| 98/98 [00:05<00:00, 19.01it/s]\n"
     ]
    },
    {
     "name": "stdout",
     "output_type": "stream",
     "text": [
      "Epoch 16/20, train_loss: 2.0141, test_loss: 9.6715, f1: 0.2604\n"
     ]
    },
    {
     "name": "stderr",
     "output_type": "stream",
     "text": [
      "100%|██████████| 98/98 [00:05<00:00, 19.38it/s]\n"
     ]
    },
    {
     "name": "stdout",
     "output_type": "stream",
     "text": [
      "Epoch 17/20, train_loss: 1.6751, test_loss: 8.5298, f1: 0.2552\n"
     ]
    },
    {
     "name": "stderr",
     "output_type": "stream",
     "text": [
      "100%|██████████| 98/98 [00:04<00:00, 23.96it/s]\n"
     ]
    },
    {
     "name": "stdout",
     "output_type": "stream",
     "text": [
      "Epoch 18/20, train_loss: 1.5288, test_loss: 7.9695, f1: 0.2436\n"
     ]
    },
    {
     "name": "stderr",
     "output_type": "stream",
     "text": [
      "100%|██████████| 98/98 [00:04<00:00, 19.74it/s]\n"
     ]
    },
    {
     "name": "stdout",
     "output_type": "stream",
     "text": [
      "Epoch 19/20, train_loss: 1.8562, test_loss: 8.5627, f1: 0.2593\n"
     ]
    },
    {
     "name": "stderr",
     "output_type": "stream",
     "text": [
      "100%|██████████| 98/98 [00:05<00:00, 18.93it/s]\n"
     ]
    },
    {
     "name": "stdout",
     "output_type": "stream",
     "text": [
      "Epoch 20/20, train_loss: 0.6123, test_loss: 8.3355, f1: 0.2532\n"
     ]
    }
   ],
   "source": [
    "from tqdm import tqdm\n",
    "from torchmetrics.classification import MultilabelF1Score\n",
    "\n",
    "num_labels = genre.shape[1]\n",
    "\n",
    "device = torch.device(\"cuda:0\" if torch.cuda.is_available() else \"cpu\")\n",
    "model.to(device)\n",
    "\n",
    "history = {'train_loss': [], 'test_loss': []}\n",
    "f1_score = {'train': [], 'test': []}\n",
    "\n",
    "f1 = MultilabelF1Score(num_labels=num_labels, threshold=0.5, average='macro')\n",
    "f1 = f1.to(device)\n",
    " \n",
    "def test(model):\n",
    "    model.eval()\n",
    "    test_loss = 0\n",
    "    f1_all = 0\n",
    "\n",
    "    with torch.no_grad():\n",
    "        for title, img, genre in test_loader:\n",
    "            title, img, genre = title.to(device), img.to(device), genre.to(device)\n",
    "            outputs = model(title, img)\n",
    "            loss = criterion(outputs, genre)\n",
    "            test_loss += loss.item()\n",
    "            \n",
    "            f1_all += f1(outputs, genre)\n",
    "\n",
    "    test_loss /= len(test_loader)\n",
    "    f1_all /= len(test_loader)\n",
    "\n",
    "    return test_loss, f1_all\n",
    "\n",
    "num_epochs = 20\n",
    "\n",
    "for epoch in range(num_epochs):\n",
    "    model.train()\n",
    "    for idx, (title, img, genre) in enumerate(tqdm(train_loader)):\n",
    "        title, img, genre = title.to(device), img.to(device), genre.to(device)\n",
    "        optimizer.zero_grad()\n",
    "        outputs = model(title, img)\n",
    "        loss = criterion(outputs, genre)\n",
    "        loss.backward()\n",
    "        optimizer.step()\n",
    "\n",
    "    train_loss = loss.item()\n",
    "    test_loss, f1_all = test(model)\n",
    "\n",
    "    history['train_loss'].append(train_loss)\n",
    "    history['test_loss'].append(test_loss)\n",
    "\n",
    "    print(f'Epoch {epoch+1}/{num_epochs}, train_loss: {train_loss:.4f}, test_loss: {test_loss:.4f}, f1: {f1_all:.4f}')"
   ]
  },
  {
   "cell_type": "code",
   "execution_count": 16,
   "metadata": {},
   "outputs": [
    {
     "data": {
      "image/png": "[encoded data removed]",
      "text/plain": [
       "<Figure size 640x480 with 1 Axes>"
      ]
     },
     "metadata": {},
     "output_type": "display_data"
    }
   ],
   "source": [
    "from matplotlib import pyplot as plt\n",
    "plt.plot(history['train_loss'], label='train_loss')\n",
    "plt.plot(history['test_loss'], label='test_loss')\n",
    "plt.legend()\n",
    "plt.show()"
   ]
  },
  {
   "cell_type": "code",
   "execution_count": null,
   "metadata": {},
   "outputs": [],
   "source": []
  }
 ],
 "metadata": {
  "kernelspec": {
   "display_name": "base",
   "language": "python",
   "name": "python3"
  },
  "language_info": {
   "codemirror_mode": {
    "name": "ipython",
    "version": 3
   },
   "file_extension": ".py",
   "mimetype": "text/x-python",
   "name": "python",
   "nbconvert_exporter": "python",
   "pygments_lexer": "ipython3",
   "version": "3.9.18"
  }
 },
 "nbformat": 4,
 "nbformat_minor": 2
}
