{
 "cells": [
  {
   "cell_type": "code",
   "execution_count": 7,
   "metadata": {},
   "outputs": [],
   "source": [
    "from torch.utils.data import Dataset, DataLoader\n",
    "import torch\n",
    "import numpy as np\n",
    "from tqdm import tqdm\n",
    "import torch\n",
    "\n",
    "\n",
    "class ImdbDataset(Dataset):\n",
    "    def __init__(self, is_train=True):\n",
    "        # label genre\n",
    "        with open('dataset/genres.txt', 'r') as f:\n",
    "            genre_all = f.readlines()\n",
    "            genre_all = [x.replace('\\n','') for x in genre_all]\n",
    "        self.genre2idx = {genre:idx for idx, genre in enumerate(genre_all)}\n",
    "\n",
    "    def __getitem__(self, index):\n",
    "        self.device = torch.device(\"cuda\" if torch.cuda.is_available() else \"cpu\")\n",
    "        genre = self.data.iloc[index].genre\n",
    "\n",
    "        # preprocess text\n",
    "        if len(self.data) > 1000:\n",
    "            self.summary = np.load('dataset/mistral_rating_db/summary_embeddings_train.npy')\n",
    "        else:\n",
    "            self.summary = np.load('dataset/mistral_rating_db/summary_embeddings_test.npy')\n",
    "\n",
    "        title_tensor = torch.from_numpy(self.summary[index]).float()\n",
    "        title_tensor.to(self.device)\n",
    "\n",
    "        # preprocess image\n",
    "        img_vec = self.img_vector[index]\n",
    "        img_tensor = torch.from_numpy(img_vec).float()\n",
    "        img_tensor.to(self.device)        \n",
    "\n",
    "        # preprocess label\n",
    "        genre_vector = np.zeros(len(self.genre2idx))\n",
    "\n",
    "        for g in genre:\n",
    "            genre_vector[self.genre2idx[g]] = 1\n",
    "        genre_tensor = torch.from_numpy(genre_vector).float()\n",
    "        genre_tensor.to(self.device)\n",
    "\n",
    "        return title_tensor, img_tensor, genre_tensor\n",
    "\n",
    "    def __len__(self):\n",
    "        return len(self.data)"
   ]
  },
  {
   "cell_type": "code",
   "execution_count": 8,
   "metadata": {},
   "outputs": [],
   "source": [
    "train_data = torch.load('dataset/train_set_vgg19_hf.pt')\n",
    "test_data = torch.load('dataset/test_set_vgg19_hf.pt')"
   ]
  },
  {
   "cell_type": "code",
   "execution_count": 9,
   "metadata": {},
   "outputs": [
    {
     "data": {
      "text/plain": [
       "[[1.8031609058380127,\n",
       "  0.8620648980140686,\n",
       "  -0.12129483371973038,\n",
       "  -0.966647744178772,\n",
       "  0.6624167561531067,\n",
       "  -0.9030779004096985,\n",
       "  -0.6619834303855896,\n",
       "  -1.9180376529693604,\n",
       "  1.4222161769866943,\n",
       "  -0.4344601333141327]]"
      ]
     },
     "execution_count": 9,
     "metadata": {},
     "output_type": "execute_result"
    }
   ],
   "source": [
    "from transformers import AutoTokenizer, AutoModelForSequenceClassification, pipeline\n",
    "\n",
    "tokenizer = AutoTokenizer.from_pretrained(\"nickmuchi/distilroberta-base-movie-genre-prediction\")\n",
    "model = AutoModelForSequenceClassification.from_pretrained(\"nickmuchi/distilroberta-base-movie-genre-prediction\")\n",
    "pipeline = pipeline('feature-extraction', model=model, tokenizer=tokenizer)\n",
    "# pipeline = pipeline('text-classification', model=model, tokenizer=tokenizer, top_k=None)\n",
    "\n",
    "res = pipeline(\"'Batman Returns' is a superhero film directed by Tim Burton and released in 1992. It stars Michael Keaton reprising his role as Bruce Wayne/Batman, alongside Danny DeVito playing the Joker. Set two decades after the events of the previous film (\"\"Batman\"\"), this installment finds Gotham City under threat from both new enemies - Catwoman (played by Michelle Pfeiffer) and the returning villainous Joker. The film received critical acclaim upon release and remains one of the highest-grossing films of all time. Its darker tone and more mature subject matter have had a lasting impact on the Batman franchise, influencing future adaptations and helping to cement its place as one of popular culture's most iconic characters\")\n",
    "res"
   ]
  },
  {
   "cell_type": "code",
   "execution_count": 16,
   "metadata": {},
   "outputs": [
    {
     "name": "stdout",
     "output_type": "stream",
     "text": [
      "torch.Size([32, 10]) torch.Size([32, 1000]) torch.Size([32, 18])\n",
      "torch.Size([32, 10]) torch.Size([32, 1000]) torch.Size([32, 18])\n"
     ]
    }
   ],
   "source": [
    "BATCH_SIZE = 32\n",
    "train_loader = DataLoader(dataset=train_data, batch_size=BATCH_SIZE, shuffle=True)\n",
    "test_loader = DataLoader(dataset=test_data, batch_size=BATCH_SIZE, shuffle=False)\n",
    "\n",
    "for title, img, genre in train_loader:\n",
    "    print(title.shape, img.shape, genre.shape)\n",
    "    break\n",
    "for title, img, genre in test_loader:\n",
    "    print(title.shape, img.shape, genre.shape)\n",
    "    break"
   ]
  },
  {
   "cell_type": "code",
   "execution_count": 12,
   "metadata": {},
   "outputs": [
    {
     "data": {
      "text/plain": [
       "ImdbModel_2(\n",
       "  (fc): Sequential(\n",
       "    (0): Linear(in_features=1010, out_features=512, bias=True)\n",
       "    (1): ReLU()\n",
       "    (2): Linear(in_features=512, out_features=256, bias=True)\n",
       "    (3): ReLU()\n",
       "    (4): Linear(in_features=256, out_features=256, bias=True)\n",
       "    (5): ReLU()\n",
       "    (6): Linear(in_features=256, out_features=18, bias=True)\n",
       "  )\n",
       "  (norm_img): BatchNorm1d(1000, eps=1e-05, momentum=0.1, affine=True, track_running_stats=True)\n",
       "  (norm_title): BatchNorm1d(10, eps=1e-05, momentum=0.1, affine=True, track_running_stats=True)\n",
       ")"
      ]
     },
     "execution_count": 12,
     "metadata": {},
     "output_type": "execute_result"
    }
   ],
   "source": [
    "from torch import nn\n",
    "\n",
    "class ImdbModel_2(nn.Module):\n",
    "    def __init__(self):\n",
    "        super().__init__()\n",
    "        self.fc = nn.Sequential(\n",
    "            nn.Linear(1010, 512),\n",
    "            nn.ReLU(),\n",
    "            nn.Linear(512, 256),\n",
    "            nn.ReLU(),\n",
    "            nn.Linear(256, 256),\n",
    "            nn.ReLU(),\n",
    "            nn.Linear(256, 18),\n",
    "        )\n",
    "        self.norm_img = nn.BatchNorm1d(1000)\n",
    "        self.norm_title = nn.BatchNorm1d(10)\n",
    "\n",
    "\n",
    "    def forward(self, title, img):\n",
    "        # normalize\n",
    "        title = self.norm_title(title)\n",
    "        img = self.norm_img(img)\n",
    "\n",
    "        x = torch.cat([title, img], dim=1)\n",
    "        x = self.fc(x)\n",
    "        return x\n",
    "    \n",
    "model = ImdbModel_2()\n",
    "model"
   ]
  },
  {
   "cell_type": "code",
   "execution_count": 13,
   "metadata": {},
   "outputs": [],
   "source": [
    "import torch.optim as optim\n",
    "\n",
    "criterion = nn.CrossEntropyLoss()\n",
    "optimizer = optim.Adam(model.parameters(), lr=0.005)"
   ]
  },
  {
   "cell_type": "code",
   "execution_count": 14,
   "metadata": {},
   "outputs": [
    {
     "name": "stderr",
     "output_type": "stream",
     "text": [
      "100%|██████████| 98/98 [00:04<00:00, 24.21it/s]\n"
     ]
    },
    {
     "name": "stdout",
     "output_type": "stream",
     "text": [
      "Epoch 1/20, train_loss: 7.2555, test_loss: 3.3873, f1: 0.2350, precision: 0.1774, recall: 0.4880\n"
     ]
    },
    {
     "name": "stderr",
     "output_type": "stream",
     "text": [
      "100%|██████████| 98/98 [00:03<00:00, 25.63it/s]\n"
     ]
    },
    {
     "name": "stdout",
     "output_type": "stream",
     "text": [
      "Epoch 2/20, train_loss: 3.3749, test_loss: 3.5465, f1: 0.2480, precision: 0.1852, recall: 0.5204\n"
     ]
    },
    {
     "name": "stderr",
     "output_type": "stream",
     "text": [
      "100%|██████████| 98/98 [00:03<00:00, 24.70it/s]\n"
     ]
    },
    {
     "name": "stdout",
     "output_type": "stream",
     "text": [
      "Epoch 3/20, train_loss: 3.2095, test_loss: 3.3976, f1: 0.2510, precision: 0.1903, recall: 0.4805\n"
     ]
    },
    {
     "name": "stderr",
     "output_type": "stream",
     "text": [
      "100%|██████████| 98/98 [00:03<00:00, 26.82it/s]\n"
     ]
    },
    {
     "name": "stdout",
     "output_type": "stream",
     "text": [
      "Epoch 4/20, train_loss: 3.2008, test_loss: 3.4518, f1: 0.2532, precision: 0.1848, recall: 0.5079\n"
     ]
    },
    {
     "name": "stderr",
     "output_type": "stream",
     "text": [
      "100%|██████████| 98/98 [00:04<00:00, 24.00it/s]\n"
     ]
    },
    {
     "name": "stdout",
     "output_type": "stream",
     "text": [
      "Epoch 5/20, train_loss: 3.5306, test_loss: 3.5874, f1: 0.2663, precision: 0.2010, recall: 0.4904\n"
     ]
    },
    {
     "name": "stderr",
     "output_type": "stream",
     "text": [
      "100%|██████████| 98/98 [00:03<00:00, 25.02it/s]\n"
     ]
    },
    {
     "name": "stdout",
     "output_type": "stream",
     "text": [
      "Epoch 6/20, train_loss: 5.0491, test_loss: 3.9268, f1: 0.2566, precision: 0.1961, recall: 0.4721\n"
     ]
    },
    {
     "name": "stderr",
     "output_type": "stream",
     "text": [
      "100%|██████████| 98/98 [00:04<00:00, 20.96it/s]\n"
     ]
    },
    {
     "name": "stdout",
     "output_type": "stream",
     "text": [
      "Epoch 7/20, train_loss: 1.4448, test_loss: 3.9473, f1: 0.2570, precision: 0.1928, recall: 0.4853\n"
     ]
    },
    {
     "name": "stderr",
     "output_type": "stream",
     "text": [
      "100%|██████████| 98/98 [00:06<00:00, 14.43it/s]\n"
     ]
    },
    {
     "name": "stdout",
     "output_type": "stream",
     "text": [
      "Epoch 8/20, train_loss: 6.2707, test_loss: 4.1166, f1: 0.2736, precision: 0.2144, recall: 0.4832\n"
     ]
    },
    {
     "name": "stderr",
     "output_type": "stream",
     "text": [
      "100%|██████████| 98/98 [00:06<00:00, 14.52it/s]\n"
     ]
    },
    {
     "name": "stdout",
     "output_type": "stream",
     "text": [
      "Epoch 9/20, train_loss: 4.3020, test_loss: 4.3592, f1: 0.2704, precision: 0.2092, recall: 0.4887\n"
     ]
    },
    {
     "name": "stderr",
     "output_type": "stream",
     "text": [
      "100%|██████████| 98/98 [00:05<00:00, 18.73it/s]\n"
     ]
    },
    {
     "name": "stdout",
     "output_type": "stream",
     "text": [
      "Epoch 10/20, train_loss: 6.5709, test_loss: 4.4261, f1: 0.2631, precision: 0.2057, recall: 0.4766\n"
     ]
    },
    {
     "name": "stderr",
     "output_type": "stream",
     "text": [
      "100%|██████████| 98/98 [00:06<00:00, 14.71it/s]\n"
     ]
    },
    {
     "name": "stdout",
     "output_type": "stream",
     "text": [
      "Epoch 11/20, train_loss: 2.1027, test_loss: 4.4254, f1: 0.2543, precision: 0.1923, recall: 0.4696\n"
     ]
    },
    {
     "name": "stderr",
     "output_type": "stream",
     "text": [
      "100%|██████████| 98/98 [00:04<00:00, 21.01it/s]\n"
     ]
    },
    {
     "name": "stdout",
     "output_type": "stream",
     "text": [
      "Epoch 12/20, train_loss: 6.8880, test_loss: 4.9122, f1: 0.2552, precision: 0.1985, recall: 0.4534\n"
     ]
    },
    {
     "name": "stderr",
     "output_type": "stream",
     "text": [
      "100%|██████████| 98/98 [00:07<00:00, 13.85it/s]\n"
     ]
    },
    {
     "name": "stdout",
     "output_type": "stream",
     "text": [
      "Epoch 13/20, train_loss: 2.0772, test_loss: 4.7358, f1: 0.2554, precision: 0.1963, recall: 0.4668\n"
     ]
    },
    {
     "name": "stderr",
     "output_type": "stream",
     "text": [
      "100%|██████████| 98/98 [00:07<00:00, 12.61it/s]\n"
     ]
    },
    {
     "name": "stdout",
     "output_type": "stream",
     "text": [
      "Epoch 14/20, train_loss: 3.7888, test_loss: 4.9339, f1: 0.2697, precision: 0.2065, recall: 0.4899\n"
     ]
    },
    {
     "name": "stderr",
     "output_type": "stream",
     "text": [
      "100%|██████████| 98/98 [00:06<00:00, 15.09it/s]\n"
     ]
    },
    {
     "name": "stdout",
     "output_type": "stream",
     "text": [
      "Epoch 15/20, train_loss: 4.2032, test_loss: 4.8409, f1: 0.2570, precision: 0.1961, recall: 0.4689\n"
     ]
    },
    {
     "name": "stderr",
     "output_type": "stream",
     "text": [
      "100%|██████████| 98/98 [00:05<00:00, 18.72it/s]\n"
     ]
    },
    {
     "name": "stdout",
     "output_type": "stream",
     "text": [
      "Epoch 16/20, train_loss: 1.9669, test_loss: 5.3041, f1: 0.2726, precision: 0.2111, recall: 0.4770\n"
     ]
    },
    {
     "name": "stderr",
     "output_type": "stream",
     "text": [
      "100%|██████████| 98/98 [00:05<00:00, 16.45it/s]\n"
     ]
    },
    {
     "name": "stdout",
     "output_type": "stream",
     "text": [
      "Epoch 17/20, train_loss: 2.7121, test_loss: 5.4537, f1: 0.2655, precision: 0.2058, recall: 0.4861\n"
     ]
    },
    {
     "name": "stderr",
     "output_type": "stream",
     "text": [
      "100%|██████████| 98/98 [00:04<00:00, 22.92it/s]\n"
     ]
    },
    {
     "name": "stdout",
     "output_type": "stream",
     "text": [
      "Epoch 18/20, train_loss: 2.5274, test_loss: 5.5385, f1: 0.2631, precision: 0.2057, recall: 0.4679\n"
     ]
    },
    {
     "name": "stderr",
     "output_type": "stream",
     "text": [
      "100%|██████████| 98/98 [00:04<00:00, 20.06it/s]\n"
     ]
    },
    {
     "name": "stdout",
     "output_type": "stream",
     "text": [
      "Epoch 19/20, train_loss: 7.1517, test_loss: 5.3987, f1: 0.2583, precision: 0.1984, recall: 0.4665\n"
     ]
    },
    {
     "name": "stderr",
     "output_type": "stream",
     "text": [
      "100%|██████████| 98/98 [00:05<00:00, 18.28it/s]\n"
     ]
    },
    {
     "name": "stdout",
     "output_type": "stream",
     "text": [
      "Epoch 20/20, train_loss: 3.2097, test_loss: 5.4426, f1: 0.2737, precision: 0.2044, recall: 0.5022\n"
     ]
    }
   ],
   "source": [
    "from tqdm import tqdm\n",
    "from torchmetrics.classification import MultilabelF1Score, MultilabelPrecision, MultilabelRecall\n",
    "\n",
    "num_labels = genre.shape[1]\n",
    "\n",
    "device = torch.device(\"cuda:0\" if torch.cuda.is_available() else \"cpu\")\n",
    "model.to(device)\n",
    "\n",
    "history = {'train_loss': [], 'test_loss': []}\n",
    "f1_score = {'train': [], 'test': []}\n",
    "\n",
    "f1 = MultilabelF1Score(num_labels=num_labels, threshold=0.5, average='macro')\n",
    "f1 = f1.to(device)\n",
    "precision = MultilabelPrecision(num_labels=num_labels, threshold=0.5, average='macro')\n",
    "precision = precision.to(device)\n",
    "recall = MultilabelRecall(num_labels=num_labels, threshold=0.5, average='macro')\n",
    "recall = recall.to(device)\n",
    "\n",
    "def test(model):\n",
    "    model.eval()\n",
    "    test_loss = 0\n",
    "    f1_all = 0\n",
    "    precision_all = 0\n",
    "    recall_all = 0\n",
    "\n",
    "    with torch.no_grad():\n",
    "        for title, img, genre in test_loader:\n",
    "            title, img, genre = title.to(device), img.to(device), genre.to(device)\n",
    "            outputs = model(title, img)\n",
    "            loss = criterion(outputs, genre)\n",
    "            test_loss += loss.item()\n",
    "            \n",
    "            f1_all += f1(outputs, genre)\n",
    "            precision_all += precision(outputs, genre)\n",
    "            recall_all += recall(outputs, genre)\n",
    "\n",
    "    test_loss /= len(test_loader)\n",
    "    f1_all /= len(test_loader)\n",
    "    precision_all /= len(test_loader)\n",
    "    recall_all /= len(test_loader)\n",
    "\n",
    "    return test_loss, f1_all, precision_all, recall_all\n",
    "\n",
    "num_epochs = 20\n",
    "\n",
    "for epoch in range(num_epochs):\n",
    "    model.train()\n",
    "    for idx, (title, img, genre) in enumerate(tqdm(train_loader)):\n",
    "        title, img, genre = title.to(device), img.to(device), genre.to(device)\n",
    "        optimizer.zero_grad()\n",
    "        outputs = model(title, img)\n",
    "        loss = criterion(outputs, genre)\n",
    "        loss.backward()\n",
    "        optimizer.step()\n",
    "\n",
    "    train_loss = loss.item()\n",
    "    test_loss, f1_all, precision_all, recall_all = test(model)\n",
    "\n",
    "    history['train_loss'].append(train_loss)\n",
    "    history['test_loss'].append(test_loss)\n",
    "\n",
    "    print(f'Epoch {epoch+1}/{num_epochs}, train_loss: {train_loss:.4f}, test_loss: {test_loss:.4f}, f1: {f1_all:.4f}, precision: {precision_all:.4f}, recall: {recall_all:.4f}')"
   ]
  },
  {
   "cell_type": "code",
   "execution_count": 17,
   "metadata": {},
   "outputs": [
    {
     "name": "stdout",
     "output_type": "stream",
     "text": [
      "[0]\tvalidation_0-logloss:0.61024\tvalidation_1-logloss:0.62060\n",
      "[10]\tvalidation_0-logloss:0.22298\tvalidation_1-logloss:0.30378\n",
      "[20]\tvalidation_0-logloss:0.10211\tvalidation_1-logloss:0.22311\n",
      "[30]\tvalidation_0-logloss:0.05415\tvalidation_1-logloss:0.20117\n",
      "[40]\tvalidation_0-logloss:0.03276\tvalidation_1-logloss:0.19869\n",
      "[50]\tvalidation_0-logloss:0.02214\tvalidation_1-logloss:0.20182\n",
      "[57]\tvalidation_0-logloss:0.01776\tvalidation_1-logloss:0.20502\n",
      "tensor(0.2829)\n",
      "tensor(0.4814)\n",
      "tensor(0.2246)\n"
     ]
    },
    {
     "name": "stderr",
     "output_type": "stream",
     "text": [
      "C:\\Users\\lg\\AppData\\Local\\Temp\\ipykernel_17120\\2628080027.py:29: UserWarning: To copy construct from a tensor, it is recommended to use sourceTensor.clone().detach() or sourceTensor.clone().detach().requires_grad_(True), rather than torch.tensor(sourceTensor).\n",
      "  y_test = torch.tensor(y_test)\n"
     ]
    }
   ],
   "source": [
    "from xgboost import XGBClassifier\n",
    "from torchmetrics.classification import MultilabelF1Score\n",
    "import torch\n",
    "from sklearn.preprocessing import StandardScaler\n",
    "\n",
    "X_train = []\n",
    "y_train = []\n",
    "for title, img, genre in train_data:\n",
    "    X_train.append(torch.cat([title, img], dim=0))\n",
    "    y_train.append(genre)\n",
    "\n",
    "X_train = torch.stack(X_train)\n",
    "y_train = torch.stack(y_train)\n",
    "\n",
    "X_test = []\n",
    "y_test = []\n",
    "for title, img, genre in test_data:\n",
    "    X_test.append(torch.cat([title, img], dim=0))\n",
    "    y_test.append(genre)\n",
    "\n",
    "X_test = torch.stack(X_test)\n",
    "y_test = torch.stack(y_test)\n",
    "\n",
    "clf = XGBClassifier(n_estimators=200, tree_method='hist', eta=0.1, early_stopping_rounds=20, max_depth=15)\n",
    "clf.fit(X_train, y_train, eval_set=[(X_train, y_train), (X_test, y_test)], verbose=10)\n",
    "\n",
    "y_pred = clf.predict(X_test)\n",
    "y_pred = torch.tensor(y_pred)\n",
    "y_test = torch.tensor(y_test)\n",
    "f1 = MultilabelF1Score(num_labels=num_labels, threshold=0.5, average='macro')\n",
    "precision = MultilabelPrecision(num_labels=num_labels, threshold=0.5, average='macro')\n",
    "recall = MultilabelRecall(num_labels=num_labels, threshold=0.5, average='macro')\n",
    "print(f1(y_pred, y_test))\n",
    "print(precision(y_pred, y_test))\n",
    "print(recall(y_pred, y_test))"
   ]
  },
  {
   "cell_type": "code",
   "execution_count": 18,
   "metadata": {},
   "outputs": [
    {
     "data": {
      "image/png": "[encoded data removed]",
      "text/plain": [
       "<Figure size 640x480 with 1 Axes>"
      ]
     },
     "metadata": {},
     "output_type": "display_data"
    }
   ],
   "source": [
    "from matplotlib import pyplot as plt\n",
    "plt.plot(history['train_loss'], label='train_loss')\n",
    "plt.plot(history['test_loss'], label='test_loss')\n",
    "plt.legend()\n",
    "plt.show()"
   ]
  },
  {
   "cell_type": "code",
   "execution_count": null,
   "metadata": {},
   "outputs": [],
   "source": []
  }
 ],
 "metadata": {
  "kernelspec": {
   "display_name": "base",
   "language": "python",
   "name": "python3"
  },
  "language_info": {
   "codemirror_mode": {
    "name": "ipython",
    "version": 3
   },
   "file_extension": ".py",
   "mimetype": "text/x-python",
   "name": "python",
   "nbconvert_exporter": "python",
   "pygments_lexer": "ipython3",
   "version": "3.9.18"
  }
 },
 "nbformat": 4,
 "nbformat_minor": 2
}
